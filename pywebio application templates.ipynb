{
 "cells": [
  {
   "cell_type": "markdown",
   "id": "49cae65b",
   "metadata": {},
   "source": [
    "## Pywebio Template"
   ]
  },
  {
   "cell_type": "code",
   "execution_count": 1,
   "id": "48ad0d1d",
   "metadata": {},
   "outputs": [
    {
     "name": "stdout",
     "output_type": "stream",
     "text": [
      "Requirement already satisfied: pywebio in c:\\users\\hussa\\anaconda3\\lib\\site-packages (1.8.2)\n",
      "Requirement already satisfied: user-agents in c:\\users\\hussa\\anaconda3\\lib\\site-packages (from pywebio) (2.2.0)\n",
      "Requirement already satisfied: tornado>=5.0 in c:\\users\\hussa\\anaconda3\\lib\\site-packages (from pywebio) (6.1)\n",
      "Requirement already satisfied: ua-parser>=0.10.0 in c:\\users\\hussa\\anaconda3\\lib\\site-packages (from user-agents->pywebio) (0.16.1)\n"
     ]
    }
   ],
   "source": [
    "!pip install pywebio    "
   ]
  },
  {
   "cell_type": "code",
   "execution_count": null,
   "id": "044f99e9",
   "metadata": {},
   "outputs": [
    {
     "name": "stdout",
     "output_type": "stream",
     "text": [
      " * Serving Flask app \"__main__\" (lazy loading)\n",
      " * Environment: production\n",
      "\u001b[31m   WARNING: This is a development server. Do not use it in a production deployment.\u001b[0m\n",
      "\u001b[2m   Use a production WSGI server instead.\u001b[0m\n",
      " * Debug mode: off\n"
     ]
    },
    {
     "name": "stderr",
     "output_type": "stream",
     "text": [
      " * Running on http://localhost:80/ (Press CTRL+C to quit)\n",
      "127.0.0.1 - - [02/Apr/2024 18:04:32] \"GET / HTTP/1.1\" 404 -\n",
      "127.0.0.1 - - [02/Apr/2024 18:04:32] \"GET /favicon.ico HTTP/1.1\" 404 -\n",
      "127.0.0.1 - - [02/Apr/2024 18:04:51] \"GET / HTTP/1.1\" 404 -\n",
      "127.0.0.1 - - [02/Apr/2024 18:04:53] \"GET / HTTP/1.1\" 404 -\n"
     ]
    }
   ],
   "source": [
    "from pywebio.input import*\n",
    "from pywebio.output import*\n",
    "from pywebio.platform.flask import webio_view\n",
    "from flask import Flask\n",
    "app = Flask(__name__)\n",
    "\n",
    "def getStarted():\n",
    "    put_text(\"Hello World! Let\\'s get started!\")\n",
    "    name = 'Hussain'\n",
    "    put_text(\"My name is %s\"%name)\n",
    "    \n",
    "    sname = 'sk'\n",
    "    put_text('My name is %s %s'%(name,sname))\n",
    "    \n",
    "    number = 7\n",
    "    pi = 3.142\n",
    "    put_text(\"Number = %d ; pi value = %f\"%(number,pi))\n",
    "    \n",
    "app.add_url_rule('/pywebio','webio_view',webio_view(getStarted),methods = ['GET','POST','OPTIONS'])\n",
    "app.run(host = 'localhost',port = 80)\n",
    "\n",
    "#Check out http://localhost/pywebio"
   ]
  },
  {
   "cell_type": "markdown",
   "id": "617a70b8",
   "metadata": {},
   "source": []
  },
  {
   "cell_type": "code",
   "execution_count": null,
   "id": "cab6665b",
   "metadata": {},
   "outputs": [],
   "source": [
    "from pywebio.input import*\n",
    "from pywebio.output import*\n",
    "from pywebio.platform.flask import webio_view\n",
    "from flask import Flask\n",
    "app = Flask(__name__)\n",
    "\n",
    "\n",
    "def getStarted():\n",
    "    put_markdown('This is markdown text.')\n",
    "    put_markdown('**This is markdown text.**')\n",
    "    put_markdown('### this is markdown text.')\n",
    "    put_markdown('## This is markdown text.')\n",
    "    put_markdown('# this is markdown text.')\n",
    "    \n",
    "app.add_url_rule('/pywebio','webio_view',webio_view(getStarted),methods = ['GET','POST','OPTIONS'])\n",
    "app.run(host = 'localhost',port = 80)"
   ]
  },
  {
   "cell_type": "code",
   "execution_count": null,
   "id": "09c9ee78",
   "metadata": {},
   "outputs": [],
   "source": [
    "from pywebio.input import*\n",
    "from pywebio.output import*\n",
    "from pywebio.platform.flask import webio_view\n",
    "from flask import Flask\n",
    "app = Flask(__name__)\n",
    "\n",
    "\n",
    "def getStarted():\n",
    "    pic = 'krishna.jpg'\n",
    "    img = open(pic,'rb').read()\n",
    "    put_image(img,width='100%')\n",
    "    \n",
    "    put_text('I Love Travelling.')\n",
    "    image_name = 'Manali'\n",
    "    pic = 'krishna.jpg'\n",
    "    img = open(pic,'rb').read()\n",
    "    put_image(img,width='100%')\n",
    "    \n",
    "app.add_url_rule('/pywebio','webio_view',webio_view(getStarted),methods = ['GET','POST','OPTIONS'])\n",
    "app.run(host = 'localhost',port = 80)"
   ]
  },
  {
   "cell_type": "code",
   "execution_count": null,
   "id": "213e729c",
   "metadata": {},
   "outputs": [],
   "source": [
    "from pywebio.input import*\n",
    "from pywebio.output import*\n",
    "from pywebio.platform.flask import webio_view\n",
    "from flask import Flask\n",
    "app = Flask(__name__)\n",
    "\n",
    "\n",
    "def getStarted():\n",
    "    answer = radio(\"Who killed Bahubali? \",options = ['Katappa','Devsena','Bhallaldeva','Shivgami','None of these','It was a suicide,not murder.'])\n",
    "    if(answer == 'Katappa'):\n",
    "        put_markdown('You are right.')\n",
    "    else:\n",
    "        put_markdown('Please watch `Bahubali 2 `!')\n",
    "app.add_url_rule('/pywebio','webio_view',webio_view(getStarted),methods = ['GET','POST','OPTIONS'])\n",
    "app.run(host = 'localhost',port = 80)"
   ]
  },
  {
   "cell_type": "code",
   "execution_count": null,
   "id": "acc21b75",
   "metadata": {},
   "outputs": [],
   "source": [
    "from pywebio.input import*\n",
    "from pywebio.output import*\n",
    "from pywebio.platform.flask import webio_view\n",
    "from flask import Flask\n",
    "app = Flask(__name__)\n",
    "\n",
    "\n",
    "def getStarted():\n",
    "    options_list = ['Avatar 2','Kantara','Thank God','Brahmastra','DoctorG']\n",
    "    answer = select(\"Which movie are you planning to watch tonight?\",options = options_list,required=True)\n",
    "    put_markdown('Great choice! You will love `%s` movie.'%answer)\n",
    "app.add_url_rule('/pywebio','webio_view',webio_view(getStarted),methods = ['GET','POST','OPTIONS'])\n",
    "app.run(host = 'localhost',port = 80)"
   ]
  },
  {
   "cell_type": "code",
   "execution_count": null,
   "id": "f92ec450",
   "metadata": {},
   "outputs": [],
   "source": []
  }
 ],
 "metadata": {
  "kernelspec": {
   "display_name": "Python 3 (ipykernel)",
   "language": "python",
   "name": "python3"
  },
  "language_info": {
   "codemirror_mode": {
    "name": "ipython",
    "version": 3
   },
   "file_extension": ".py",
   "mimetype": "text/x-python",
   "name": "python",
   "nbconvert_exporter": "python",
   "pygments_lexer": "ipython3",
   "version": "3.9.13"
  }
 },
 "nbformat": 4,
 "nbformat_minor": 5
}
